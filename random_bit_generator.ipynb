{
 "cells": [
  {
   "cell_type": "code",
   "execution_count": 16,
   "metadata": {},
   "outputs": [
    {
     "name": "stdout",
     "output_type": "stream",
     "text": [
      "[cirq.GridQubit(0, 0), cirq.GridQubit(0, 1), cirq.GridQubit(1, 0), cirq.GridQubit(1, 1), cirq.GridQubit(2, 0), cirq.GridQubit(2, 1)]\n",
      "(0, 0): ───H───M('z')───\n",
      "               │\n",
      "(0, 1): ───H───M────────\n",
      "               │\n",
      "(1, 0): ───H───M────────\n",
      "               │\n",
      "(1, 1): ───H───M────────\n",
      "               │\n",
      "(2, 0): ───H───M────────\n",
      "               │\n",
      "(2, 1): ───H───M────────\n",
      "z=1, 1, 1, 1, 1, 1\n"
     ]
    },
    {
     "name": "stderr",
     "output_type": "stream",
     "text": [
      "[NbConvertApp] Converting notebook random_bit_generator.ipynb to script\n",
      "[NbConvertApp] Writing 763 bytes to random_bit_generator.py\n"
     ]
    }
   ],
   "source": [
    "#initialize a superposition as 1/sqrt(2) (0+1) and then measure in computational basis\n",
    "#this should deliver a string of random bits with probability 0.5 for each bit \n",
    "\n",
    "import cirq\n",
    "\n",
    "#final number of bits divided by 2\n",
    "num_bits = 3\n",
    "\n",
    "#initialize qubits\n",
    "qubits = [cirq.GridQubit(i, j) for i in range(num_bits) for j in range(2)]\n",
    "\n",
    "#superpose 2 qubits for every subgrid\n",
    "\n",
    "superposition_circuit = cirq.Circuit()\n",
    "superposition_circuit.append(cirq.H(q) for q in qubits)\n",
    "\n",
    "#measure every qubit in computational basis\n",
    "\n",
    "superposition_circuit.append(cirq.measure(*qubits, key='z'))\n",
    "\n",
    "print(qubits)\n",
    "print(superposition_circuit)\n",
    "\n",
    "\n",
    "#run simulation of circuit\n",
    "simulator = cirq.google.XmonSimulator()\n",
    "\n",
    "results = simulator.run(superposition_circuit, repetitions=1)\n",
    "print(results)\n",
    "#convert script to python script\n",
    "#!jupyter nbconvert --to script random_bit_generator.ipynb"
   ]
  },
  {
   "cell_type": "code",
   "execution_count": null,
   "metadata": {},
   "outputs": [],
   "source": []
  }
 ],
 "metadata": {
  "kernelspec": {
   "display_name": "Python 3",
   "language": "python",
   "name": "python3"
  },
  "language_info": {
   "codemirror_mode": {
    "name": "ipython",
    "version": 3
   },
   "file_extension": ".py",
   "mimetype": "text/x-python",
   "name": "python",
   "nbconvert_exporter": "python",
   "pygments_lexer": "ipython3",
   "version": "3.7.1"
  }
 },
 "nbformat": 4,
 "nbformat_minor": 2
}
